{
 "cells": [
  {
   "attachments": {},
   "cell_type": "markdown",
   "metadata": {},
   "source": [
    "## __ibm_geospatial_vector.ipynb__\n",
    "Author: Connor Weldy\n",
    "\n",
    "Last Edited: 3/20/2023\n",
    "\n",
    "### Description: \n",
    "Juptyer notebook following the IBM tutorial for working with\n",
    "geospatial vector data in python.\n",
    "Source: https://developer.ibm.com/learningpaths/data-analysis-using-python/working-with-geospatial-vector-data-in-python/\n"
   ]
  },
  {
   "cell_type": "code",
   "execution_count": null,
   "metadata": {},
   "outputs": [],
   "source": []
  }
 ],
 "metadata": {
  "language_info": {
   "name": "python"
  },
  "orig_nbformat": 4
 },
 "nbformat": 4,
 "nbformat_minor": 2
}
